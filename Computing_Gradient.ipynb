{
  "nbformat": 4,
  "nbformat_minor": 0,
  "metadata": {
    "colab": {
      "name": "Computing Gradient.ipynb",
      "version": "0.3.2",
      "provenance": [],
      "collapsed_sections": [],
      "include_colab_link": true
    },
    "kernelspec": {
      "name": "python3",
      "display_name": "Python 3"
    }
  },
  "cells": [
    {
      "cell_type": "markdown",
      "metadata": {
        "id": "view-in-github",
        "colab_type": "text"
      },
      "source": [
        "<a href=\"https://colab.research.google.com/github/quanap5/ColabNote2/blob/master/Computing_Gradient.ipynb\" target=\"_parent\"><img src=\"https://colab.research.google.com/assets/colab-badge.svg\" alt=\"Open In Colab\"/></a>"
      ]
    },
    {
      "cell_type": "code",
      "metadata": {
        "id": "kAePeWa_uuCn",
        "colab_type": "code",
        "colab": {
          "base_uri": "https://localhost:8080/",
          "height": 120
        },
        "outputId": "be5cad07-b152-4175-ee30-768de93f29ea"
      },
      "source": [
        "from google.colab import drive\n",
        "drive.mount('/content/gdrive/')"
      ],
      "execution_count": 1,
      "outputs": [
        {
          "output_type": "stream",
          "text": [
            "Go to this URL in a browser: https://accounts.google.com/o/oauth2/auth?client_id=947318989803-6bn6qk8qdgf4n4g3pfee6491hc0brc4i.apps.googleusercontent.com&redirect_uri=urn%3Aietf%3Awg%3Aoauth%3A2.0%3Aoob&scope=email%20https%3A%2F%2Fwww.googleapis.com%2Fauth%2Fdocs.test%20https%3A%2F%2Fwww.googleapis.com%2Fauth%2Fdrive%20https%3A%2F%2Fwww.googleapis.com%2Fauth%2Fdrive.photos.readonly%20https%3A%2F%2Fwww.googleapis.com%2Fauth%2Fpeopleapi.readonly&response_type=code\n",
            "\n",
            "Enter your authorization code:\n",
            "··········\n",
            "Mounted at /content/gdrive/\n"
          ],
          "name": "stdout"
        }
      ]
    },
    {
      "cell_type": "markdown",
      "metadata": {
        "id": "aIpob1Kq7Yzh",
        "colab_type": "text"
      },
      "source": [
        "### Computing gradient"
      ]
    },
    {
      "cell_type": "code",
      "metadata": {
        "id": "RX1PfeSCu15r",
        "colab_type": "code",
        "colab": {
          "base_uri": "https://localhost:8080/",
          "height": 33
        },
        "outputId": "6ed8e97f-6902-492e-be48-564ea23544f2"
      },
      "source": [
        "import tensorflow as tf\n",
        "\n",
        "x = tf.placeholder(tf.float32)\n",
        "# y =  2*x*x\n",
        "z_1 = tf.multiply(tf.constant(2.0), x)\n",
        "z_2 = tf.multiply(z_1, x)\n",
        "var_grad = tf.gradients(z_2, x)\n",
        "\n",
        "with tf.Session() as session:\n",
        "  var_grad_val = session.run(var_grad,feed_dict={x:2})\n",
        "  print(var_grad_val)"
      ],
      "execution_count": 11,
      "outputs": [
        {
          "output_type": "stream",
          "text": [
            "[8.0]\n"
          ],
          "name": "stdout"
        }
      ]
    },
    {
      "cell_type": "markdown",
      "metadata": {
        "id": "K0SZ3Q1HFaNl",
        "colab_type": "text"
      },
      "source": [
        "### 1.1 The following is my function which has explicit equation\n"
      ]
    },
    {
      "cell_type": "code",
      "metadata": {
        "id": "C9p8EVROFUkn",
        "colab_type": "code",
        "colab": {}
      },
      "source": [
        "def function_1(x):\n",
        "  return tf.sin(x)*x + tf.cos(x) * tf.exp(x)"
      ],
      "execution_count": 0,
      "outputs": []
    },
    {
      "cell_type": "markdown",
      "metadata": {
        "id": "NSBzVT8TF4eZ",
        "colab_type": "text"
      },
      "source": [
        "### 1.2 Then, I use following two functions to compute the gradient and obtain  the same results as expected"
      ]
    },
    {
      "cell_type": "code",
      "metadata": {
        "id": "IxbqP0uKGTkL",
        "colab_type": "code",
        "colab": {
          "base_uri": "https://localhost:8080/",
          "height": 33
        },
        "outputId": "84b74409-d0a0-4a7f-a914-47a24f3df377"
      },
      "source": [
        "# method 1\n",
        "x = tf.placeholder(tf.float32)\n",
        "gradient_1 = tf.gradients(function_1(x), x)\n",
        "with tf.Session() as session:\n",
        "  gradient_1_val = session.run(gradient_1, feed_dict={x: 0.003})\n",
        "  print(gradient_1_val)"
      ],
      "execution_count": 31,
      "outputs": [
        {
          "output_type": "stream",
          "text": [
            "[1.005991]\n"
          ],
          "name": "stdout"
        }
      ]
    },
    {
      "cell_type": "code",
      "metadata": {
        "id": "Fb1zxW09HvJ3",
        "colab_type": "code",
        "colab": {
          "base_uri": "https://localhost:8080/",
          "height": 33
        },
        "outputId": "385af892-fa3a-4cce-fdfc-d529328e2e66"
      },
      "source": [
        "# method 2\n",
        "x = tf.placeholder(tf.float32)\n",
        "gradient_2 = tf.train.AdamOptimizer().compute_gradients(function_1(x), var_list=x)\n",
        "with tf.Session() as session:\n",
        "  gradient_1_val = session.run(gradient_2, feed_dict={x: 0.003})\n",
        "  print(gradient_1_val) # note that: compute_gradient also return itself value of x \"array(x, dtype=float32)\""
      ],
      "execution_count": 32,
      "outputs": [
        {
          "output_type": "stream",
          "text": [
            "[(1.005991, array(0.003, dtype=float32))]\n"
          ],
          "name": "stdout"
        }
      ]
    },
    {
      "cell_type": "markdown",
      "metadata": {
        "id": "GFfQdJY-GVBZ",
        "colab_type": "text"
      },
      "source": [
        "### 1.3 Another example"
      ]
    },
    {
      "cell_type": "code",
      "metadata": {
        "id": "55XzW78suv4n",
        "colab_type": "code",
        "colab": {
          "base_uri": "https://localhost:8080/",
          "height": 50
        },
        "outputId": "5e71a48f-4793-446e-8516-b2df26297540"
      },
      "source": [
        "import tensorflow as tf\n",
        "import numpy as np\n",
        "\n",
        "\n",
        "def expectation(x):\n",
        "    point = np.reshape(np.linspace(-5.0, 5.0, 300), (300, 1))\n",
        "    kernel_matrix_np = np.exp(-(point - np.transpose(point))**2 / (2 * 1.5**2))\n",
        "\n",
        "    def reference_point():\n",
        "        covariance = kernel_matrix_np\n",
        "        np.random.seed(100)\n",
        "        sampled_funcs = np.random.multivariate_normal(np.ones(len(point)), covariance)\n",
        "        return sampled_funcs\n",
        "      \n",
        "      \n",
        "    ref_point = tf.transpose(tf.convert_to_tensor(reference_point(), dtype=tf.float32))  # <---\n",
        "    five64 = tf.convert_to_tensor(5.0, dtype=tf.float32)  # <---\n",
        "    point = tf.reshape(tf.linspace(-five64, 5.0, 300), (300, 1))  # <---\n",
        "    kernel_matrix_tf = tf.exp(-(point - tf.transpose(point))**2 / (2 * 1.5**2))\n",
        "    inverse_kernel_matrix = tf.matrix_inverse(kernel_matrix_tf)\n",
        "    kernel_vector = tf.exp(-(x - tf.transpose(point))**2 / (2 * 1.5**2))\n",
        "    mu = tf.matmul(kernel_vector, inverse_kernel_matrix)\n",
        "    ref_point = tf.expand_dims(ref_point, axis=1)\n",
        "    mu = tf.matmul(mu, ref_point)\n",
        "    return mu\n",
        "\n",
        "x = tf.Variable(2.0, dtype=tf.float32, name='x')  # <---\n",
        "gradients_1 = tf.train.AdamOptimizer().compute_gradients(expectation(x), var_list=[x])\n",
        "graidents_2 = tf.gradients(expectation(x), [x])\n",
        "\n",
        "with tf.Session() as sess:\n",
        "    sess.run(tf.global_variables_initializer())\n",
        "    print('The gradient one is', sess.run(gradients_1))\n",
        "    print('The gradient two is', sess.run(graidents_2))"
      ],
      "execution_count": 33,
      "outputs": [
        {
          "output_type": "stream",
          "text": [
            "The gradient one is [(-25.512436, 2.0)]\n",
            "The gradient two is [-25.512436]\n"
          ],
          "name": "stdout"
        }
      ]
    }
  ]
}