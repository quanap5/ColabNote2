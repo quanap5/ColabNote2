{
  "nbformat": 4,
  "nbformat_minor": 0,
  "metadata": {
    "colab": {
      "name": "PreparationData.ipynb",
      "version": "0.3.2",
      "provenance": [],
      "toc_visible": true,
      "include_colab_link": true
    },
    "kernelspec": {
      "name": "python3",
      "display_name": "Python 3"
    }
  },
  "cells": [
    {
      "cell_type": "markdown",
      "metadata": {
        "id": "view-in-github",
        "colab_type": "text"
      },
      "source": [
        "<a href=\"https://colab.research.google.com/github/quanap5/ColabNote2/blob/master/PreparationData.ipynb\" target=\"_parent\"><img src=\"https://colab.research.google.com/assets/colab-badge.svg\" alt=\"Open In Colab\"/></a>"
      ]
    },
    {
      "cell_type": "markdown",
      "metadata": {
        "id": "rXPP1XTYiUMK",
        "colab_type": "text"
      },
      "source": [
        "### Authonization"
      ]
    },
    {
      "cell_type": "code",
      "metadata": {
        "id": "FGSu0-rig4_R",
        "colab_type": "code",
        "colab": {}
      },
      "source": [
        "from google.colab import drive\n",
        "drive.mount('/content/gdrive/')"
      ],
      "execution_count": 0,
      "outputs": []
    },
    {
      "cell_type": "markdown",
      "metadata": {
        "id": "2U_7AHWEigj1",
        "colab_type": "text"
      },
      "source": [
        "### Source of data\n",
        "\n",
        "\n",
        "The available data include three datasets as input:\n",
        "\n",
        "- Training data: It is the aircraft engine run to filure data.\n",
        "- Testing data: It is the aircraft engine operating data without failure events recorded\n",
        "- Ground truth data: It contains the information of true remaining cycles for each engine in the testing data"
      ]
    },
    {
      "cell_type": "code",
      "metadata": {
        "id": "Lm2jRT8ujcXB",
        "colab_type": "code",
        "colab": {}
      },
      "source": [
        "!mkdir PdM"
      ],
      "execution_count": 0,
      "outputs": []
    },
    {
      "cell_type": "code",
      "metadata": {
        "id": "54B8vG_2k_r8",
        "colab_type": "code",
        "colab": {}
      },
      "source": [
        "!pwd"
      ],
      "execution_count": 0,
      "outputs": []
    },
    {
      "cell_type": "code",
      "metadata": {
        "id": "MVtK4kMZi5WF",
        "colab_type": "code",
        "colab": {}
      },
      "source": [
        "#download the training data\n",
        "!wget http://azuremlsamples.azureml.net/templatedata/PM_train.txt -O PM_train.txt\n",
        "#download the testing data\n",
        "!wget http://azuremlsamples.azureml.net/templatedata/PM_test.txt -O PM_test.txt\n",
        "#download the groundtruth data\n",
        "!wget http://azuremlsamples.azureml.net/templatedata/PM_truth.txt -O PM_truth.txt"
      ],
      "execution_count": 0,
      "outputs": []
    },
    {
      "cell_type": "markdown",
      "metadata": {
        "id": "vBF7AWknm7x2",
        "colab_type": "text"
      },
      "source": [
        "### Data Ingestion\n"
      ]
    },
    {
      "cell_type": "code",
      "metadata": {
        "id": "dquEROTLnKvE",
        "colab_type": "code",
        "colab": {}
      },
      "source": [
        "import pandas as pd\n",
        "import numpy as np\n",
        "import matplotlib.pyplot as plt\n",
        "import os"
      ],
      "execution_count": 0,
      "outputs": []
    },
    {
      "cell_type": "code",
      "metadata": {
        "id": "N8-Jipy_nA65",
        "colab_type": "code",
        "colab": {}
      },
      "source": [
        "############TRAINING DATA######################\n",
        "# read training data and add field column\n",
        "train_df = pd.read_csv('PM_train.txt', sep=\" \", header=None)\n",
        "train_df.drop(train_df.columns[[26, 27]], axis=1, inplace=True) #ignore Nan value at 2 last column\n",
        "train_df.columns = ['id', 'cycle', 'setting1', 'setting2', 'setting3',\n",
        "                    's1', 's2', 's3','s4', 's5', 's6', 's7', 's8', 's9', 's10', 's11', 's12', 's13', 's14', 's15', 's16', 's17', 's18', 's19', 's20', 's21']\n",
        "train_df.sort_values(['id','cycle'])"
      ],
      "execution_count": 0,
      "outputs": []
    },
    {
      "cell_type": "code",
      "metadata": {
        "id": "Pqa_Ia1SwJPW",
        "colab_type": "code",
        "colab": {}
      },
      "source": [
        "############TESTING DATA######################\n",
        "# read training data and add field column\n",
        "test_df = pd.read_csv('PM_test.txt', sep=\" \", header=None)\n",
        "test_df.drop(test_df.columns[[26, 27]], axis=1, inplace=True) #ignore Nan value at 2 last column\n",
        "test_df.columns = ['id', 'cycle', 'setting1', 'setting2', 'setting3',\n",
        "                    's1', 's2', 's3','s4', 's5', 's6', 's7', 's8', 's9', 's10', 's11', 's12', 's13', 's14', 's15', 's16', 's17', 's18', 's19', 's20', 's21']\n",
        "test_df.sort_values(['id','cycle'])"
      ],
      "execution_count": 0,
      "outputs": []
    },
    {
      "cell_type": "code",
      "metadata": {
        "id": "mHK6t6URwf49",
        "colab_type": "code",
        "colab": {}
      },
      "source": [
        "############GROUNDTRUTH DATA######################\n",
        "truth_df = pd.read_csv('PM_truth.txt', sep=\" \", header=None)\n",
        "truth_df.drop(truth_df.columns[[1]], axis=1, inplace=True)"
      ],
      "execution_count": 0,
      "outputs": []
    },
    {
      "cell_type": "markdown",
      "metadata": {
        "id": "cKXMp3-MvkZR",
        "colab_type": "text"
      },
      "source": [
        "#### Sample of training data"
      ]
    },
    {
      "cell_type": "code",
      "metadata": {
        "id": "Z_2iopxYvp6i",
        "colab_type": "code",
        "colab": {}
      },
      "source": [
        "train_df.head(1000)"
      ],
      "execution_count": 0,
      "outputs": []
    },
    {
      "cell_type": "markdown",
      "metadata": {
        "id": "ycirOrdPtXuj",
        "colab_type": "text"
      },
      "source": [
        "The data schema for the training and testing data is shown in the following.\n",
        "\n",
        "- id: Integer, aircraft engine identifier range [1, 100]\n",
        "- cycle: Integer, time in cycles\n",
        "- setting1: Double, operational setting 1\n",
        "- setting2: Double, operational setting 2\n",
        "- setting3: Double, operational setting 3\n",
        "- s1: Double, sensor measurement 1\n",
        "- s2: Double, sensor measuremnet 2\n",
        "- s3: Double, sensor measurement 3\n",
        "...\n",
        "-s21: Double, sensor measurement 21\n"
      ]
    },
    {
      "cell_type": "markdown",
      "metadata": {
        "id": "DwNQwbpuyI8T",
        "colab_type": "text"
      },
      "source": [
        "#### Sample of testting data"
      ]
    },
    {
      "cell_type": "code",
      "metadata": {
        "id": "KX_E3NU6yM5J",
        "colab_type": "code",
        "colab": {}
      },
      "source": [
        "test_df.head(1000)"
      ],
      "execution_count": 0,
      "outputs": []
    }
  ]
}