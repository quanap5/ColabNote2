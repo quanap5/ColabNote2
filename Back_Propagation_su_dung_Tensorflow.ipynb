{
  "nbformat": 4,
  "nbformat_minor": 0,
  "metadata": {
    "colab": {
      "name": "Back Propagation su dung Tensorflow.ipynb",
      "version": "0.3.2",
      "provenance": [],
      "collapsed_sections": [],
      "toc_visible": true,
      "include_colab_link": true
    },
    "kernelspec": {
      "name": "python3",
      "display_name": "Python 3"
    },
    "accelerator": "GPU"
  },
  "cells": [
    {
      "cell_type": "markdown",
      "metadata": {
        "id": "view-in-github",
        "colab_type": "text"
      },
      "source": [
        "<a href=\"https://colab.research.google.com/github/quanap5/ColabNote2/blob/master/Back_Propagation_su_dung_Tensorflow.ipynb\" target=\"_parent\"><img src=\"https://colab.research.google.com/assets/colab-badge.svg\" alt=\"Open In Colab\"/></a>"
      ]
    },
    {
      "cell_type": "code",
      "metadata": {
        "id": "oQoQRMbQWHw9",
        "colab_type": "code",
        "colab": {}
      },
      "source": [
        "from google.colab import drive\n",
        "drive.mount('/content/gdrive/')"
      ],
      "execution_count": 0,
      "outputs": []
    },
    {
      "cell_type": "markdown",
      "metadata": {
        "id": "FxS3y_cdimm3",
        "colab_type": "text"
      },
      "source": [
        "## Backpropagation với Tensorflow\n",
        "\n",
        "[ref](http://blog.aloni.org/posts/backprop-with-tensorflow)"
      ]
    },
    {
      "cell_type": "code",
      "metadata": {
        "id": "_G5YLF5qilfI",
        "colab_type": "code",
        "colab": {}
      },
      "source": [
        "#!/usr/bin/env python\n",
        "\n",
        "import tensorflow\n",
        "import tensorflow as tf\n",
        "\n",
        "from tensorflow.examples.tutorials.mnist import input_data\n",
        "mnist = input_data.read_data_sets(\"MNIST_data/\", one_hot=True)\n",
        "\n",
        "# create place to feed input and contain label\n",
        "a_0 = tf.placeholder(tf.float32, [None, 784])\n",
        "y = tf.placeholder(tf.float32, [None, 10])\n",
        "\n",
        "# Parameters of network\n",
        "hidden = 30\n",
        "w_1 = tf.Variable(tf.truncated_normal([784, hidden]))\n",
        "b_1 = tf.Variable(tf.truncated_normal([1, hidden]))\n",
        "w_2 = tf.Variable(tf.truncated_normal([hidden, 10]))\n",
        "b_2 = tf.Variable(tf.truncated_normal([1, 10]))"
      ],
      "execution_count": 0,
      "outputs": []
    },
    {
      "cell_type": "markdown",
      "metadata": {
        "id": "oTgtE9qwizlk",
        "colab_type": "text"
      },
      "source": [
        "### 1.1 Định nghĩa hàm Sigmoid"
      ]
    },
    {
      "cell_type": "code",
      "metadata": {
        "id": "IyBb4DotixNX",
        "colab_type": "code",
        "colab": {}
      },
      "source": [
        "def sigma(x):\n",
        "    return tf.div(tf.constant(1.0),\n",
        "                  tf.add(tf.constant(1.0), tf.exp(tf.negative(x))))"
      ],
      "execution_count": 0,
      "outputs": []
    },
    {
      "cell_type": "code",
      "metadata": {
        "id": "uNL0GSjakCFg",
        "colab_type": "code",
        "colab": {}
      },
      "source": [
        "def quan_function(x):\n",
        "  return x"
      ],
      "execution_count": 0,
      "outputs": []
    },
    {
      "cell_type": "markdown",
      "metadata": {
        "id": "ViROm94UjZ0r",
        "colab_type": "text"
      },
      "source": [
        "### 1.2 Thực hiện tính toán Forward propagation"
      ]
    },
    {
      "cell_type": "code",
      "metadata": {
        "id": "TRMKTFt0jgRX",
        "colab_type": "code",
        "colab": {}
      },
      "source": [
        "z_1 = tf.add(tf.matmul(a_0, w_1), b_1)\n",
        "a_1 = sigma(z_1)\n",
        "z_2 = tf.add(tf.matmul(a_1, w_2), b_2)\n",
        "a_2 = sigma(z_2)"
      ],
      "execution_count": 0,
      "outputs": []
    },
    {
      "cell_type": "markdown",
      "metadata": {
        "id": "LzRjjkBclCAV",
        "colab_type": "text"
      },
      "source": [
        "### 1.3 Tính gradient"
      ]
    },
    {
      "cell_type": "code",
      "metadata": {
        "id": "vqlt5HjilF5p",
        "colab_type": "code",
        "colab": {}
      },
      "source": [
        "diff = tf.subtract(a_2, y)"
      ],
      "execution_count": 0,
      "outputs": []
    },
    {
      "cell_type": "markdown",
      "metadata": {
        "id": "JYFOaMU9l-rR",
        "colab_type": "text"
      },
      "source": [
        "### 1.4 Tính derivative của hàm Sigmoid"
      ]
    },
    {
      "cell_type": "code",
      "metadata": {
        "id": "ciF0M4JcmF1D",
        "colab_type": "code",
        "colab": {}
      },
      "source": [
        "def sigmoidprime(x):\n",
        "  return tf.multiply(sigma(x), tf.subtract(tf.constant(1.0), sigma(x)))"
      ],
      "execution_count": 0,
      "outputs": []
    },
    {
      "cell_type": "markdown",
      "metadata": {
        "id": "_kheuFnRySX4",
        "colab_type": "text"
      },
      "source": [
        "### 1.5 Thực hiện BackPropagation"
      ]
    },
    {
      "cell_type": "code",
      "metadata": {
        "id": "Gt1tD_GZoJmx",
        "colab_type": "code",
        "colab": {}
      },
      "source": [
        "d_z_2 = tf.multiply(diff, sigmoidprime(z_2))\n",
        "d_b_2 = d_z_2\n",
        "d_w_2 = tf.matmul(tf.transpose(a_1), d_z_2)\n",
        "\n",
        "d_a_1 = tf.matmul(d_z_2, tf.transpose(w_2))\n",
        "d_z_1 = tf.multiply(d_a_1, sigmoidprime(z_1))\n",
        "d_b_1 = d_z_1\n",
        "d_w_1 = tf.matmul(tf.transpose(a_0), d_z_1)"
      ],
      "execution_count": 0,
      "outputs": []
    },
    {
      "cell_type": "markdown",
      "metadata": {
        "id": "gfSRTpaxpW6y",
        "colab_type": "text"
      },
      "source": [
        "### 1.6 Cập nhật network"
      ]
    },
    {
      "cell_type": "code",
      "metadata": {
        "id": "DdYEuTBgnkuM",
        "colab_type": "code",
        "colab": {}
      },
      "source": [
        "eta = tf.constant(0.5)\n",
        "step = [\n",
        "    tf.assign(w_1,\n",
        "            tf.subtract(w_1, tf.multiply(eta, d_w_1)))\n",
        "  , tf.assign(b_1,\n",
        "            tf.subtract(b_1, tf.multiply(eta,\n",
        "                               tf.reduce_mean(d_b_1, axis=[0]))))\n",
        "  , tf.assign(w_2,\n",
        "            tf.subtract(w_2, tf.multiply(eta, d_w_2)))\n",
        "  , tf.assign(b_2,\n",
        "            tf.subtract(b_2, tf.multiply(eta,\n",
        "                               tf.reduce_mean(d_b_2, axis=[0]))))\n",
        "]"
      ],
      "execution_count": 0,
      "outputs": []
    },
    {
      "cell_type": "markdown",
      "metadata": {
        "id": "jKA4uV8Bq__g",
        "colab_type": "text"
      },
      "source": [
        "### 1.7  Chạy training và testing"
      ]
    },
    {
      "cell_type": "code",
      "metadata": {
        "id": "0jrXtWCorDwL",
        "colab_type": "code",
        "outputId": "9a250ccc-c1df-438e-c91e-214b7e3ecde0",
        "colab": {
          "base_uri": "https://localhost:8080/",
          "height": 254
        }
      },
      "source": [
        "# accuracy matrix \n",
        "acct_mat = tf.equal(tf.argmax(a_2, 1), tf.argmax(y, 1))\n",
        "# sum up the correct prediction\n",
        "acct_res = tf.reduce_sum(tf.cast(acct_mat, tf.float32))\n",
        "\n",
        "sess = tf.InteractiveSession()\n",
        "sess.run(tf.global_variables_initializer())\n",
        "\n",
        "for i in range(10000):\n",
        "  batch_xs, batch_ys = mnist.train.next_batch(10)\n",
        "  sess.run(step, feed_dict = {a_0: batch_xs,\n",
        "                              y : batch_ys})\n",
        "  if i % 1000 == 0:\n",
        "    res = sess.run(acct_res, feed_dict =\n",
        "                   {a_0: mnist.test.images[:100],\n",
        "                    y : mnist.test.labels[:100]})\n",
        "    print(res)\n",
        "    \n",
        "print(\"FINISH\")"
      ],
      "execution_count": 14,
      "outputs": [
        {
          "output_type": "stream",
          "text": [
            "/usr/local/lib/python3.6/dist-packages/tensorflow/python/client/session.py:1735: UserWarning: An interactive session is already active. This can cause out-of-memory errors in some cases. You must explicitly call `InteractiveSession.close()` to release resources held by the other session(s).\n",
            "  warnings.warn('An interactive session is already active. This can '\n"
          ],
          "name": "stderr"
        },
        {
          "output_type": "stream",
          "text": [
            "10.0\n",
            "73.0\n",
            "86.0\n",
            "91.0\n",
            "95.0\n",
            "94.0\n",
            "93.0\n",
            "95.0\n",
            "97.0\n",
            "97.0\n",
            "FINISH\n"
          ],
          "name": "stdout"
        }
      ]
    }
  ]
}